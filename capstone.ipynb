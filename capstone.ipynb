{
  "nbformat": 4,
  "nbformat_minor": 0,
  "metadata": {
    "colab": {
      "name": "capstone.ipynb",
      "provenance": [],
      "collapsed_sections": [],
      "authorship_tag": "ABX9TyNs0tPIy1WX5UgWBpqi3MGq",
      "include_colab_link": true
    },
    "kernelspec": {
      "name": "python3",
      "display_name": "Python 3"
    }
  },
  "cells": [
    {
      "cell_type": "markdown",
      "metadata": {
        "id": "view-in-github",
        "colab_type": "text"
      },
      "source": [
        "<a href=\"https://colab.research.google.com/github/michaeltmk/IBM-Data-Science-Capstone-Project/blob/master/capstone.ipynb\" target=\"_parent\"><img src=\"https://colab.research.google.com/assets/colab-badge.svg\" alt=\"Open In Colab\"/></a>"
      ]
    },
    {
      "cell_type": "markdown",
      "metadata": {
        "id": "ScgICpGv_r6z",
        "colab_type": "text"
      },
      "source": [
        "#Analysis of population and Venue distribution in Hong Kong\n"
      ]
    },
    {
      "cell_type": "markdown",
      "metadata": {
        "id": "zBAEFZigACim",
        "colab_type": "text"
      },
      "source": [
        "## 1. Introduction\n",
        "Hong Kong is a highly developed territory, which ranks fourth on the UN Human Development Index. With over 7.4 million people of various nationalities in a 1,104-square-kilometre (426 sq mi) territory, Hong Kong is one of the most densely populated places in the world. The dense space also led to a developed transportation network with public transport rates exceeding 90%.\n",
        "Hong Kong is ranked third in the Global Financial Centre Index, behind New York City and London. As it is a very important international financial, business services and recognized center in the world, talents, and investors from worldwide are being concentrated in this place.\n",
        "\n",
        "From the businessman's point of view, which location is the best for the new business is the key question. A retail store should be opened at a location with a high population but less similar varieties in the surrounding; an office should be located somewhere easy to go ( which is not a problem in HK) and surrounded by restaurant, but also with a reasonable price of rent. Keeping the above things in mind that it is very difficult for an individual to find such a place in such a big city and gather this much information.\n",
        "\n",
        "This report will visualize the population and venue information through a map and conclude on some potential locations for different venues.\n",
        "\n"
      ]
    },
    {
      "cell_type": "markdown",
      "metadata": {
        "id": "CvxEAst0EfGq",
        "colab_type": "text"
      },
      "source": [
        "##2. Data\n",
        "For this report, we followed the region(neighborhood) definition in Hong Kong population distribution data, separating Hond Kong into 243 neighborhoods.  \n",
        "The sources of data are listed as follows:\n",
        "*   Hong Kong neighborhoods' names list: defined in Hong Kong population distribution data\n",
        "*   Hong Kong population data: https://www.bycensus2016.gov.hk/en/bc-own_tbl.html\n",
        "*   Neighborhoods' Geographic Coordinates: Google Maps Geocoding API\n",
        "*   Venues data: Foursquare API\n",
        "\n",
        "The Hong Kong population data was downloaded from the Hong Kong government website, and the neighborhoods' definition of this report followed which in this file. The geographic coordinates of each neighborhood were found by Google Maps Geocoding API. A Foursquare API GET request is sent in order to acquire the surrounding venues that are within a radius of 500m."
      ]
    },
    {
      "cell_type": "code",
      "metadata": {
        "id": "lJiOdMwVEe3I",
        "colab_type": "code",
        "colab": {}
      },
      "source": [
        ""
      ],
      "execution_count": 0,
      "outputs": []
    },
    {
      "cell_type": "code",
      "metadata": {
        "id": "uAWVY4JM_qaB",
        "colab_type": "code",
        "colab": {}
      },
      "source": [
        ""
      ],
      "execution_count": 0,
      "outputs": []
    }
  ]
}