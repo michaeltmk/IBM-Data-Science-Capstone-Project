{
  "nbformat": 4,
  "nbformat_minor": 0,
  "metadata": {
    "colab": {
      "name": "Untitled0.ipynb",
      "provenance": []
    },
    "kernelspec": {
      "name": "python3",
      "display_name": "Python 3"
    }
  },
  "cells": [
    {
      "cell_type": "markdown",
      "metadata": {
        "id": "hQiByUiA1ADn",
        "colab_type": "text"
      },
      "source": [
        "# Hello World!\n",
        "\n",
        "This is a capstone project for IBM Data Science Specialization.\n"
      ]
    },
    {
      "cell_type": "code",
      "metadata": {
        "id": "aios6t-F077Z",
        "colab_type": "code",
        "colab": {}
      },
      "source": [
        "import numpy as np\n",
        "import pandas as pd\n",
        "print(Hello Capstone Project Course!)"
      ],
      "execution_count": 0,
      "outputs": []
    }
  ]
}